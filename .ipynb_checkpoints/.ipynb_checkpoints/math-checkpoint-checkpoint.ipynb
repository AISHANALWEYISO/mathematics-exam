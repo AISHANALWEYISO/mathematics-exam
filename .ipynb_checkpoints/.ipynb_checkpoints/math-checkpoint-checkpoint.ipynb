{
 "cells": [
  {
   "cell_type": "code",
   "execution_count": 1,
   "id": "36a4d0cd-f0ad-45a6-b25f-be2fdb273f1c",
   "metadata": {},
   "outputs": [],
   "source": [
    "import numpy as np"
   ]
  },
  {
   "cell_type": "markdown",
   "id": "dfa3b167-e6db-458c-8017-06f76cec32e9",
   "metadata": {},
   "source": [
    "## Question 5"
   ]
  },
  {
   "cell_type": "code",
   "execution_count": 2,
   "id": "801c56d6-82fb-4e50-b79f-c6473d08b0dd",
   "metadata": {},
   "outputs": [
    {
     "name": "stdout",
     "output_type": "stream",
     "text": [
      "[[1.  0.2 0.5]\n",
      " [0.2 1.  0.8]\n",
      " [0.5 0.8 1. ]]\n"
     ]
    }
   ],
   "source": [
    "matrix = np.array([[1,0.2,0.5],[0.2,1,0.8],[0.5,0.8,1]])\n",
    "print(matrix)"
   ]
  },
  {
   "cell_type": "markdown",
   "id": "d0e270a5-b295-407e-8535-248cb22f4280",
   "metadata": {},
   "source": [
    "## i)"
   ]
  },
  {
   "cell_type": "code",
   "execution_count": 3,
   "id": "6d02f55b-d393-421f-bb2a-a23135b9687a",
   "metadata": {},
   "outputs": [
    {
     "name": "stdout",
     "output_type": "stream",
     "text": [
      "[[1.  0.2 0.5]\n",
      " [0.2 1.  0.8]\n",
      " [0.5 0.8 1. ]]\n"
     ]
    }
   ],
   "source": [
    "\n",
    "print(np.transpose(matrix))"
   ]
  },
  {
   "cell_type": "markdown",
   "id": "67818fcc-5726-4c8d-8c66-0c4dc64d5442",
   "metadata": {},
   "source": [
    "## ii)"
   ]
  },
  {
   "cell_type": "code",
   "execution_count": 4,
   "id": "64e836c4-986c-473d-9234-cab1163a60d1",
   "metadata": {},
   "outputs": [
    {
     "name": "stdout",
     "output_type": "stream",
     "text": [
      "0.2299999999999999\n"
     ]
    }
   ],
   "source": [
    "det = np.linalg.det(matrix)\n",
    "print(det)"
   ]
  },
  {
   "cell_type": "markdown",
   "id": "79e031cf-a307-4009-87ee-9ff746763755",
   "metadata": {},
   "source": [
    "## iii)"
   ]
  },
  {
   "cell_type": "markdown",
   "id": "6ff09d74-a863-438f-a970-26154e249e5f",
   "metadata": {},
   "source": [
    "## Question 6"
   ]
  },
  {
   "cell_type": "code",
   "execution_count": 6,
   "id": "3af812b8-d651-4454-8e3d-007a8b971a21",
   "metadata": {},
   "outputs": [],
   "source": [
    "from numpy import random\n",
    "import matplotlib.pyplot as plt\n",
    "import seaborn as sns"
   ]
  },
  {
   "cell_type": "markdown",
   "id": "1596aa81-f1ae-4b74-9617-5fb40d6a134b",
   "metadata": {},
   "source": [
    "## i)"
   ]
  },
  {
   "cell_type": "code",
   "execution_count": 7,
   "id": "e02562d5-fa7c-47b8-835f-79daae3a8a67",
   "metadata": {},
   "outputs": [
    {
     "name": "stdout",
     "output_type": "stream",
     "text": [
      "[1 2 0 0 0 0 0 1 0 0 1 1 3 1 1 0 2 3 0 2 0 1 1 2 1 3 2 1 1 0 2 0 1 1 0 0 2\n",
      " 3 2 0 2 0 0 0 0 1 3 0 1 1 2 0 0 0 0 1 2 0 2 0 3 0 2 1 1 1 0 0 1 1 0 2 0 0\n",
      " 1 1 0 1 1 0 2 1 0 4 1 0 0 0 2 1 0 1 1 3 2 1 1 1 0 1 1 1 2 0 1 0 4 0 0 0 1\n",
      " 0 2 1 1 0 1 2 1 1 0 2 0 2 2 2 1 0 5 0 0 1 0 2 1 1 0 1 1 0 0 2 1 0 0 1 0 2\n",
      " 0 1 1 2 3 0 0 2 1 0 0 2 0 2 0 1 0 2 3 2 1 2 1 0 0 0 1 4 0 0 1 0 0 0 1 0 2\n",
      " 0 0 2 0 1 0 0 2 2 1 1 1 1 1 1 1 2 0 2 3 1 2 1 1 0 0 2 2 0 0 2 0 0 2 1 0 2\n",
      " 0 0 0 2 0 0 2 0 0 1 1 2 0 2 1 1 0 0 0 0 2 2 2 0 0 1 1 1 1 1 0 1 1 0 2 0 1\n",
      " 1 0 1 1 0 0 1 2 0 1 0 2 1 3 3 1 0 3 1 1 1 1 2 0 6 2 1 0 0 1 2 1 1 0 1 1 0\n",
      " 2 1 1 1 0 1 1 0 2 2 1 3 0 0 0 0 1 1 1 1 0 1 1 1 0 0 1 1 0 1 0 1 0 0 0 0 1\n",
      " 0 0 1 0 1 0 2 0 1 3 1 2 2 1 0 0 0 0 2 0 3 2 2 0 1 1 0 0 0 1 1 1 0 2 2 3 1\n",
      " 0 0 1 0 0 2 0 2 1 2 1 1 1 1 0 2 0 1 1 1 1 1 0 1 1 1 1 1 0 1 0 1 0 1 1 2 0\n",
      " 1 1 0 0 3 0 1 3 1 2 4 0 0 0 2 0 3 3 0 5 2 1 0 2 2 3 0 2 1 0 0 1 0 0 1 2 1\n",
      " 1 2 2 1 1 0 1 1 0 1 3 0 0 0 0 1 1 0 2 1 0 5 1 1 2 0 1 1 1 1 0 2 0 0 0 2 1\n",
      " 0 1 2 0 0 3 0 0 1 1 1 1 0 1 1 2 0 1 1 3 1 1 1 1 1 1 1 0 0 1 0 0 0 3 1 2 2\n",
      " 0 3 0 2 0 0 1 1 0 0 0 0 2 1 1 1 0 1 0 2 0 2 1 2 1 4 0 2 2 1 1 1 3 0 4 0 2\n",
      " 2 1 2 0 0 0 0 3 4 0 3 0 0 1 1 1 3 0 3 0 1 0 2 2 4 1 0 2 2 1 1 1 0 2 0 1 2\n",
      " 0 1 0 0 0 1 0 0 0 0 0 1 0 1 0 0 2 1 2 1 4 5 0 3 2 2 0 1 1 2 3 2 2 1 3 0 1\n",
      " 1 3 1 2 0 2 0 1 0 1 2 2 0 1 1 1 0 1 1 0 0 1 0 0 0 0 1 0 2 2 1 0 0 2 1 2 0\n",
      " 1 1 1 1 1 3 1 2 1 4 1 2 2 1 1 1 1 2 3 1 1 1 0 1 0 2 2 0 1 1 0 0 1 1 0 0 0\n",
      " 0 0 1 1 1 0 2 2 0 0 1 0 1 0 2 1 2 1 1 1 2 2 0 1 0 2 3 1 1 4 1 1 0 1 1 1 1\n",
      " 0 1 0 1 1 2 0 1 0 1 1 0 0 1 0 2 1 1 2 0 0 0 2 0 2 2 2 0 0 2 1 2 2 0 0 2 0\n",
      " 2 0 0 0 0 1 2 0 2 0 1 1 1 1 2 1 1 0 1 1 2 2 0 0 2 0 0 2 1 1 0 2 1 0 2 1 1\n",
      " 2 1 2 3 2 0 2 0 1 3 0 1 0 1 1 0 1 1 1 1 0 1 1 1 0 0 2 0 1 0 2 0 2 1 0 0 1\n",
      " 1 0 0 1 1 0 1 3 1 1 1 0 2 1 1 1 1 1 1 1 0 5 1 4 0 0 0 0 2 0 0 2 0 1 1 3 3\n",
      " 1 0 1 1 0 1 0 0 3 0 0 4 1 1 2 0 1 2 2 0 1 2 3 0 0 2 0 0 0 0 1 1 1 2 1 1 1\n",
      " 0 3 0 1 0 1 1 0 0 0 0 1 1 1 1 1 0 0 0 0 2 1 2 1 3 3 0 2 3 1 1 0 1 2 0 0 0\n",
      " 0 0 1 1 0 0 1 0 2 1 1 2 2 2 1 1 3 0 0 0 2 2 1 1 0 1 1 1 3 1 3 3 0 1 0 0 1\n",
      " 0]\n"
     ]
    }
   ],
   "source": [
    "x = random.poisson(size = 1000)\n",
    "print(x) #we generate a random sample of poisson distribution with size 1000."
   ]
  },
  {
   "cell_type": "markdown",
   "id": "5b3cb242-caa5-4ec9-a02c-fdfa2d57571c",
   "metadata": {},
   "source": [
    "## ii)"
   ]
  },
  {
   "cell_type": "code",
   "execution_count": 8,
   "id": "1eab5351-8d3a-4c2c-a178-62e5c285287d",
   "metadata": {},
   "outputs": [
    {
     "name": "stdout",
     "output_type": "stream",
     "text": [
      "<function mean at 0x0000023DE466DE40>\n"
     ]
    }
   ],
   "source": [
    "x = random.poisson(size = 1000)\n",
    "print(np.mean) #calculating the mean from the genrated samples"
   ]
  },
  {
   "cell_type": "code",
   "execution_count": 9,
   "id": "4f11959b-4c56-4efa-b220-65c93ac41a47",
   "metadata": {},
   "outputs": [
    {
     "name": "stdout",
     "output_type": "stream",
     "text": [
      "<function var at 0x0000023DE466E0C0>\n"
     ]
    }
   ],
   "source": [
    "x = random.poisson(size = 1000)\n",
    "print(np.var) #calculating yhe variance of poisson distribution from the generated samples."
   ]
  },
  {
   "cell_type": "markdown",
   "id": "c11f96a9-4ab7-48a0-83f2-427915253958",
   "metadata": {},
   "source": [
    "## iii)"
   ]
  },
  {
   "cell_type": "markdown",
   "id": "a44d6460-8b45-410a-b6cd-c3eda075f463",
   "metadata": {},
   "source": [
    "## Visualistion of the distribution"
   ]
  },
  {
   "cell_type": "code",
   "execution_count": 10,
   "id": "11046c16-1eee-42d8-995a-92a9bdc821cf",
   "metadata": {},
   "outputs": [
    {
     "data": {
      "image/png": "[encoded data removed]",
      "text/plain": [
       "<Figure size 640x480 with 1 Axes>"
      ]
     },
     "metadata": {},
     "output_type": "display_data"
    }
   ],
   "source": [
    "poisson_data = random.poisson (lam = 5, size = 1000)\n",
    "sns.histplot(poisson_data,bins=10, kde = False, color = 'red')\n",
    "plt.xlabel('Days')\n",
    "plt.ylabel('customer arrivals')\n",
    "plt.title('customers arrivals per day')\n",
    "plt.show()"
   ]
  },
  {
   "cell_type": "code",
   "execution_count": null,
   "id": "e9bbd03e-774a-42e3-8605-adca58075877",
   "metadata": {},
   "outputs": [],
   "source": []
  }
 ],
 "metadata": {
  "kernelspec": {
   "display_name": "Python 3 (ipykernel)",
   "language": "python",
   "name": "python3"
  },
  "language_info": {
   "codemirror_mode": {
    "name": "ipython",
    "version": 3
   },
   "file_extension": ".py",
   "mimetype": "text/x-python",
   "name": "python",
   "nbconvert_exporter": "python",
   "pygments_lexer": "ipython3",
   "version": "3.12.7"
  }
 },
 "nbformat": 4,
 "nbformat_minor": 5
}
